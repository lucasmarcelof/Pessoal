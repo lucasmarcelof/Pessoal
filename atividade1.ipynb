{
 "cells": [
  {
   "cell_type": "markdown",
   "metadata": {
    "id": "cXC4WikDkE8r"
   },
   "source": [
    "### **Atividade com Nota**\n",
    "Link de envio:\n",
    "https://forms.gle/rEGR8vXj365VcV628"
   ]
  },
  {
   "cell_type": "markdown",
   "metadata": {
    "id": "e9QTLDi29NKd"
   },
   "source": [
    "#### Exercício 1: Análise de Dados de Vendas\n",
    "\n",
    "- Você recebeu os dados de vendas de uma loja durante um mês;\n",
    "- Eles estão organizados em uma lista de tuplas, onde cada tupla contém o **nome do produto**, a **quantidade vendida** e o **valor total da venda**. Você deve realizar uma análise utilizando listas, compreensão de listas, `itertools`, dicionários e conjuntos.\n",
    "\n",
    "#### Dados fornecidos:\n",
    "```python\n",
    "vendas = [\n",
    "    ('Camiseta', 10, 200),\n",
    "    ('Calça', 5, 250),\n",
    "    ('Jaqueta', 2, 300),\n",
    "    ('Camiseta', 7, 140),\n",
    "    ('Calça', 3, 150),\n",
    "    ('Boné', 4, 80),\n",
    "    ('Jaqueta', 1, 150),\n",
    "    ('Camiseta', 8, 160),\n",
    "    ('Boné', 3, 60),\n",
    "]\n",
    "```\n",
    "\n",
    "#### Tarefas:\n",
    "\n",
    "1. **Listas e Compreensão de Listas**:\n",
    "   - Crie uma nova lista contendo apenas os produtos únicos vendidos (sem repetições). Use uma compreensão de lista e um conjunto (`set`) para garantir que não haja duplicatas.\n",
    "\n",
    "2. **itertools**:\n",
    "   - Use `itertools` para agrupar as vendas por produto e somar a quantidade total vendida para cada produto.\n",
    "\n",
    "3. **Dicionários**:\n",
    "   - Crie um dicionário onde as chaves são os produtos e os valores são listas que contêm a quantidade total vendida e o valor total de vendas de cada produto.\n",
    "\n",
    "4. **Conjuntos**:\n",
    "   - Crie dois conjuntos: um contendo os produtos vendidos com mais de 20 unidades e outro contendo os produtos que geraram um valor total de vendas superior a 500.\n",
    "\n"
   ]
  },
  {
   "cell_type": "code",
   "execution_count": 1,
   "metadata": {},
   "outputs": [
    {
     "name": "stdout",
     "output_type": "stream",
     "text": [
      "{'Jaqueta', 'Camiseta', 'Boné', 'Calça'}\n"
     ]
    }
   ],
   "source": [
    "## 1 \n",
    "vendas = [\n",
    "    ('Camiseta', 10, 200),\n",
    "    ('Calça', 5, 250),\n",
    "    ('Jaqueta', 2, 300),\n",
    "    ('Camiseta', 7, 140),\n",
    "    ('Calça', 3, 150),\n",
    "    ('Boné', 4, 80),\n",
    "    ('Jaqueta', 1, 150),\n",
    "    ('Camiseta', 8, 160),\n",
    "    ('Boné', 3, 60),\n",
    "]\n",
    "lista = [item[0] for item in vendas]\n",
    "conjunto = set(lista)\n",
    "\n",
    "print(conjunto)"
   ]
  },
  {
   "cell_type": "code",
   "execution_count": 2,
   "metadata": {},
   "outputs": [],
   "source": [
    "import itertools"
   ]
  },
  {
   "cell_type": "code",
   "execution_count": 3,
   "metadata": {},
   "outputs": [
    {
     "data": {
      "text/plain": [
       "[('Boné', 7), ('Calça', 8), ('Camiseta', 25), ('Jaqueta', 3)]"
      ]
     },
     "execution_count": 3,
     "metadata": {},
     "output_type": "execute_result"
    }
   ],
   "source": [
    "## 2 \n",
    "vendas = [\n",
    "    ('Camiseta', 10, 200),\n",
    "    ('Calça', 5, 250),\n",
    "    ('Jaqueta', 2, 300),\n",
    "    ('Camiseta', 7, 140),\n",
    "    ('Calça', 3, 150),\n",
    "    ('Boné', 4, 80),\n",
    "    ('Jaqueta', 1, 150),\n",
    "    ('Camiseta', 8, 160),\n",
    "    ('Boné', 3, 60),\n",
    "]\n",
    "vendas.sort()\n",
    "saida = []\n",
    "for key, group in itertools.groupby(vendas,key=lambda x: x[0]):\n",
    "    total_quantidade = sum(item[1] for item in group)\n",
    "    saida.append((key, total_quantidade))\n",
    "saida\n"
   ]
  },
  {
   "cell_type": "code",
   "execution_count": 5,
   "metadata": {},
   "outputs": [
    {
     "data": {
      "text/plain": [
       "{'Camiseta': [25, 500],\n",
       " 'Calça': [8, 400],\n",
       " 'Jaqueta': [3, 450],\n",
       " 'Boné': [7, 140]}"
      ]
     },
     "execution_count": 5,
     "metadata": {},
     "output_type": "execute_result"
    }
   ],
   "source": [
    "#3\n",
    "vendas = [\n",
    "    ('Camiseta', 10, 200),\n",
    "    ('Calça', 5, 250),\n",
    "    ('Jaqueta', 2, 300),\n",
    "    ('Camiseta', 7, 140),\n",
    "    ('Calça', 3, 150),\n",
    "    ('Boné', 4, 80),\n",
    "    ('Jaqueta', 1, 150),\n",
    "    ('Camiseta', 8, 160),\n",
    "    ('Boné', 3, 60),\n",
    "]\n",
    "\n",
    "dicionario = {}\n",
    "\n",
    "for item, quantidade, valor in vendas:\n",
    "    if item in dicionario:\n",
    "        dicionario[item][0] += quantidade\n",
    "        dicionario[item][1] += valor\n",
    "    else:\n",
    "        dicionario[item] = [quantidade, valor]\n",
    "\n",
    "dicionario\n",
    "\n"
   ]
  },
  {
   "cell_type": "code",
   "execution_count": null,
   "metadata": {},
   "outputs": [
    {
     "name": "stdout",
     "output_type": "stream",
     "text": [
      "Produtos com mais de 20 unidades vendidas {'Camiseta'}\n",
      "Produtos com mais de 500 em vendas set()\n"
     ]
    }
   ],
   "source": [
    "#4 \n",
    "conjunto = set([item for item, lista in dicionario.items() if lista[0] > 20] )\n",
    "conjunto2 =set([item for item, lista in dicionario.items() if lista[1] > 500] )\n",
    "\n",
    "print(\"Produtos com mais de 20 unidades vendidas\",conjunto)\n",
    "print(\"Produtos com mais de 500 em vendas\",conjunto2)"
   ]
  },
  {
   "cell_type": "markdown",
   "metadata": {
    "id": "IyWvWpmJ9wEJ"
   },
   "source": [
    "#### Exemplo de Saída Esperada:"
   ]
  },
  {
   "cell_type": "code",
   "execution_count": null,
   "metadata": {
    "id": "hJSSRdZ19rcl"
   },
   "outputs": [
    {
     "ename": "SyntaxError",
     "evalue": "invalid syntax (1634219642.py, line 13)",
     "output_type": "error",
     "traceback": [
      "\u001b[1;36m  Cell \u001b[1;32mIn[1], line 13\u001b[1;36m\u001b[0m\n\u001b[1;33m    Produtos com mais de 20 unidades vendidas: {'Camiseta'}\u001b[0m\n\u001b[1;37m             ^\u001b[0m\n\u001b[1;31mSyntaxError\u001b[0m\u001b[1;31m:\u001b[0m invalid syntax\n"
     ]
    }
   ],
   "source": [
    "\n",
    "# Produtos únicos vendidos\n",
    "['Camiseta', 'Calça', 'Jaqueta', 'Boné']\n",
    "\n",
    "# Quantidade total vendida por produto\n",
    "{'Camiseta': 25, 'Calça': 8, 'Jaqueta': 3, 'Boné': 7}\n",
    "\n",
    "# Dicionário com quantidade e valor total de vendas por produto\n",
    "{'Camiseta': [25, 500], 'Calça': [8, 400], 'Jaqueta': [3, 450], 'Boné': [7, 140]}\n",
    "\n",
    "# Conjuntos de produtos com mais de 20 unidades vendidas e mais de 500 em vendas totais\n",
    "Produtos com mais de 20 unidades vendidas: {'Camiseta'}\n",
    "Produtos com mais de 500 em vendas totais: {'Camiseta', 'Jaqueta'}"
   ]
  },
  {
   "cell_type": "markdown",
   "metadata": {
    "id": "SuHsBb9hjHzP"
   },
   "source": []
  },
  {
   "cell_type": "markdown",
   "metadata": {
    "id": "61JcTLEujIVM"
   },
   "source": [
    "### Exercício 2: Análise de Dados de Alunos\n",
    "\n",
    "Você tem uma lista com registros de alunos, onde cada registro contém o nome do aluno, a disciplina e a nota final que ele obteve. Você precisa processar esses dados para extrair informações específicas e responder a algumas perguntas sobre o desempenho dos alunos.\n",
    "\n"
   ]
  },
  {
   "cell_type": "code",
   "execution_count": 8,
   "metadata": {
    "id": "zXcxd76pkGJV"
   },
   "outputs": [],
   "source": [
    "#### Dados fornecidos:\n",
    "alunos = [\n",
    "    ('Alice', 'Matemática', 85),\n",
    "    ('Bob', 'História', 78),\n",
    "    ('Alice', 'História', 95),\n",
    "    ('Bob', 'Matemática', 82),\n",
    "    ('Carlos', 'Matemática', 70),\n",
    "    ('Carlos', 'História', 65),\n",
    "    ('Alice', 'Física', 90),\n",
    "    ('Bob', 'Física', 85),\n",
    "    ('Carlos', 'Física', 75),\n",
    "    ('Diana', 'Matemática', 88),\n",
    "    ('Diana', 'História', 92),\n",
    "    ('Diana', 'Física', 95),\n",
    "]"
   ]
  },
  {
   "cell_type": "markdown",
   "metadata": {
    "id": "NH1nPS5hkGkT"
   },
   "source": [
    "#### Tarefas:\n",
    "\n",
    "1. **Listas e Compreensão de Listas**:\n",
    "   - Crie uma lista de todas as disciplinas disponíveis (sem duplicação), usando uma compreensão de lista e um conjunto para garantir que não haja repetições.\n",
    "\n",
    "2. **Agrupamento de Notas por Aluno**:\n",
    "   - Crie um dicionário onde as chaves são os nomes dos alunos e os valores são listas com as notas. Em seguida, calcule a média das notas para cada aluno.\n",
    "\n",
    "3. **Dicionários**:\n",
    "   - Crie um dicionário que armazene as notas de cada aluno para cada disciplina. As chaves devem ser os nomes dos alunos, e os valores devem ser dicionários onde as chaves são as disciplinas e os valores são as notas.\n",
    "\n",
    "4. **Conjuntos**:\n",
    "   - Crie dois conjuntos:\n",
    "     - Um contendo os nomes dos alunos que têm uma média superior a 80.\n",
    "     - Outro contendo os nomes dos alunos que obtiveram nota superior a 90 em pelo menos uma disciplina.\n",
    "\n"
   ]
  },
  {
   "cell_type": "code",
   "execution_count": 9,
   "metadata": {},
   "outputs": [
    {
     "name": "stdout",
     "output_type": "stream",
     "text": [
      "{'História', 'Matemática', 'Física'}\n"
     ]
    }
   ],
   "source": [
    "#1\n",
    "listaDisciplinas=[item[1] for item in alunos]\n",
    "disciplinas = set(listaDisciplinas)\n",
    "print(disciplinas)"
   ]
  },
  {
   "cell_type": "code",
   "execution_count": null,
   "metadata": {},
   "outputs": [
    {
     "name": "stdout",
     "output_type": "stream",
     "text": [
      "{'Alice': 90.0, 'Bob': 81.66666666666667, 'Carlos': 70.0, 'Diana': 91.66666666666667}\n"
     ]
    }
   ],
   "source": [
    "#2\n",
    "alunos = [\n",
    "    ('Alice', 'Matemática', 85),\n",
    "    ('Bob', 'História', 78),\n",
    "    ('Alice', 'História', 95),\n",
    "    ('Bob', 'Matemática', 82),\n",
    "    ('Carlos', 'Matemática', 70),\n",
    "    ('Carlos', 'História', 65),\n",
    "    ('Alice', 'Física', 90),\n",
    "    ('Bob', 'Física', 85),\n",
    "    ('Carlos', 'Física', 75),\n",
    "    ('Diana', 'Matemática', 88),\n",
    "    ('Diana', 'História', 92),\n",
    "    ('Diana', 'Física', 95),\n",
    "]\n",
    "\n",
    "dicionarioMedias = {}\n",
    "\n",
    "\n",
    "for aluno, disciplina, nota in alunos:\n",
    "    if aluno in dicionarioMedias:\n",
    "        dicionarioMedias[aluno].append(nota)\n",
    "    else:\n",
    "        dicionarioMedias[aluno] = [nota]\n",
    "\n",
    "mediasAluno = {aluno: sum(notas)/len(notas) for aluno, notas in dicionarioMedias.items()}\n",
    "\n",
    "print(mediasAluno)"
   ]
  },
  {
   "cell_type": "code",
   "execution_count": null,
   "metadata": {},
   "outputs": [
    {
     "name": "stdout",
     "output_type": "stream",
     "text": [
      "{'Alice': {'Matemática': 85, 'História': 95, 'Física': 90}, 'Bob': {'História': 78, 'Matemática': 82, 'Física': 85}, 'Carlos': {'Matemática': 70, 'História': 65, 'Física': 75}, 'Diana': {'Matemática': 88, 'História': 92, 'Física': 95}}\n"
     ]
    }
   ],
   "source": [
    "#3\n",
    "alunos = [\n",
    "    ('Alice', 'Matemática', 85),\n",
    "    ('Bob', 'História', 78),\n",
    "    ('Alice', 'História', 95),\n",
    "    ('Bob', 'Matemática', 82),\n",
    "    ('Carlos', 'Matemática', 70),\n",
    "    ('Carlos', 'História', 65),\n",
    "    ('Alice', 'Física', 90),\n",
    "    ('Bob', 'Física', 85),\n",
    "    ('Carlos', 'Física', 75),\n",
    "    ('Diana', 'Matemática', 88),\n",
    "    ('Diana', 'História', 92),\n",
    "    ('Diana', 'Física', 95),\n",
    "]\n",
    "\n",
    "dicionarioAlunos = {}\n",
    "\n",
    "for aluno, disciplina, nota in alunos:\n",
    "    if aluno in dicionarioAlunos:\n",
    "        dicionarioAlunos[aluno]|= {disciplina:nota}\n",
    "    else:\n",
    "        dicionarioAlunos[aluno] = {disciplina:nota}\n",
    "\n",
    "print(dicionarioAlunos)"
   ]
  },
  {
   "cell_type": "code",
   "execution_count": null,
   "metadata": {},
   "outputs": [
    {
     "name": "stdout",
     "output_type": "stream",
     "text": [
      "{'Bob', 'Diana', 'Alice'}\n"
     ]
    }
   ],
   "source": [
    "#4\n",
    "maior80 = set([aluno for aluno,media in mediasAluno.items() if media > 80])\n",
    "print(maior80)"
   ]
  },
  {
   "cell_type": "code",
   "execution_count": null,
   "metadata": {},
   "outputs": [
    {
     "name": "stdout",
     "output_type": "stream",
     "text": [
      "Alice\n",
      "Bob\n",
      "Carlos\n",
      "Diana\n",
      "{'Diana', 'Alice'}\n"
     ]
    }
   ],
   "source": [
    "media90 = set()\n",
    "for aluno,notas in dicionarioAlunos.items():\n",
    "    for nota in notas.values():\n",
    "        if nota > 90:\n",
    "            media90.add(aluno)\n",
    "\n",
    "print(media90)"
   ]
  },
  {
   "cell_type": "code",
   "execution_count": null,
   "metadata": {
    "id": "0QJJNHmpji77"
   },
   "outputs": [],
   "source": [
    "#### Exemplo de Saída Esperada:\n",
    "# Disciplinas disponíveis:\n",
    "['Matemática', 'História', 'Física']\n",
    "# Média de notas por aluno:\n",
    "{'Alice': 90.0, 'Bob': 81.67, 'Carlos': 70.0, 'Diana': 91.67}\n",
    "# Notas de cada aluno por disciplina:\n",
    "{'Alice': {'Matemática': 85, 'História': 95, 'Física': 90}, 'Bob': {'História': 78, 'Matemática': 82, 'Física': 85}, 'Carlos': {'Matemática': 70, 'História': 65, 'Física': 75}, 'Diana': {'Matemática': 88, 'História': 92, 'Física': 95}}\n",
    "# Alunos com média superior a 80:\n",
    "{'Alice', 'Bob', 'Diana'}\n",
    "# Alunos com nota superior a 90 em pelo menos uma disciplina:\n",
    "{'Alice', 'Diana'}"
   ]
  }
 ],
 "metadata": {
  "colab": {
   "provenance": []
  },
  "kernelspec": {
   "display_name": "base",
   "language": "python",
   "name": "python3"
  },
  "language_info": {
   "codemirror_mode": {
    "name": "ipython",
    "version": 3
   },
   "file_extension": ".py",
   "mimetype": "text/x-python",
   "name": "python",
   "nbconvert_exporter": "python",
   "pygments_lexer": "ipython3",
   "version": "3.11.5"
  }
 },
 "nbformat": 4,
 "nbformat_minor": 0
}
